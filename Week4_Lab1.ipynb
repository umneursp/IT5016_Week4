{
 "cells": [
  {
   "cell_type": "code",
   "execution_count": 4,
   "id": "a068c496-3933-4e2c-a078-acc101db4e0a",
   "metadata": {},
   "outputs": [
    {
     "name": "stdout",
     "output_type": "stream",
     "text": [
      "Hello World\n"
     ]
    }
   ],
   "source": [
    " def greet():\n",
    "     print(\"Hello World\")\n",
    "\n",
    "greet()"
   ]
  },
  {
   "cell_type": "code",
   "execution_count": 5,
   "id": "3a5adf6a-20e4-47ee-add0-4eb86dded6da",
   "metadata": {},
   "outputs": [
    {
     "name": "stdout",
     "output_type": "stream",
     "text": [
      "Hello!\n",
      "5\n"
     ]
    }
   ],
   "source": [
    "def add_numbers():\n",
    "    int1 = 3\n",
    "    int2 = 2\n",
    "    print('Hello!')\n",
    "    print(int1 + int2)\n",
    "    \n",
    "add_numbers()"
   ]
  },
  {
   "cell_type": "code",
   "execution_count": 7,
   "id": "293749bc-3e4b-4120-b992-e3a33ac78e48",
   "metadata": {},
   "outputs": [
    {
     "name": "stdout",
     "output_type": "stream",
     "text": [
      "Hello, Alice!\n",
      "Hello, Bob!\n"
     ]
    }
   ],
   "source": [
    "def greet(name):\n",
    "    print(f'Hello, {name}!')\n",
    "\n",
    "greet('Alice')\n",
    "greet('Bob')"
   ]
  },
  {
   "cell_type": "code",
   "execution_count": 8,
   "id": "ffe1c29e-b17a-413b-9ab9-ae32d3b98080",
   "metadata": {},
   "outputs": [
    {
     "name": "stdout",
     "output_type": "stream",
     "text": [
      "5\n",
      "6.0\n"
     ]
    }
   ],
   "source": [
    "def add_numbers(a, b):\n",
    "    return a + b\n",
    "    \n",
    "print(add_numbers(2, 3))\n",
    "print(add_numbers(2.5, 3.5))"
   ]
  },
  {
   "cell_type": "code",
   "execution_count": 9,
   "id": "de2d5438-eb05-4899-8699-e0c95fd4bb74",
   "metadata": {},
   "outputs": [
    {
     "name": "stdout",
     "output_type": "stream",
     "text": [
      "Count inside function: 1\n",
      "Count inside function: 2\n",
      "Count outside function: 2\n"
     ]
    }
   ],
   "source": [
    "count = 0\n",
    "\n",
    "def increment():\n",
    "    global count\n",
    "    count += 1\n",
    "    print(f'Count inside function: {count}')\n",
    "\n",
    "increment()\n",
    "increment()\n",
    "\n",
    "print(f'Count outside function: {count}')"
   ]
  },
  {
   "cell_type": "code",
   "execution_count": 16,
   "id": "c8708408-0fad-4d5e-b6bc-db628d7b064f",
   "metadata": {},
   "outputs": [
    {
     "name": "stdout",
     "output_type": "stream",
     "text": [
      "Total Sum: 35\n"
     ]
    }
   ],
   "source": [
    "total_sum = 0\n",
    "\n",
    "def add_to_sum(num):\n",
    "    global total_sum\n",
    "    total_sum += num\n",
    "\n",
    "def display_sum():\n",
    "    print(f'Total Sum: {total_sum}')\n",
    "\n",
    "add_to_sum(5)\n",
    "add_to_sum(10)\n",
    "add_to_sum(20)\n",
    "display_sum()"
   ]
  },
  {
   "cell_type": "code",
   "execution_count": 21,
   "id": "b038582c-7db7-4576-825e-c4dd94527d09",
   "metadata": {},
   "outputs": [
    {
     "name": "stdout",
     "output_type": "stream",
     "text": [
      "20\n",
      "77\n"
     ]
    }
   ],
   "source": [
    "def add(a, b):\n",
    "    return a + b\n",
    "\n",
    "def multiply(a, b):\n",
    "    return a * b\n",
    "\n",
    "def add_multiply(a, b, c):\n",
    "    return multiply(add(a, b), c)\n",
    "\n",
    "print(add_multiply(7, 3, 2))\n",
    "print(add_multiply(7, 4, 7))"
   ]
  }
 ],
 "metadata": {
  "kernelspec": {
   "display_name": "Python 3 (ipykernel)",
   "language": "python",
   "name": "python3"
  },
  "language_info": {
   "codemirror_mode": {
    "name": "ipython",
    "version": 3
   },
   "file_extension": ".py",
   "mimetype": "text/x-python",
   "name": "python",
   "nbconvert_exporter": "python",
   "pygments_lexer": "ipython3",
   "version": "3.12.9"
  }
 },
 "nbformat": 4,
 "nbformat_minor": 5
}
