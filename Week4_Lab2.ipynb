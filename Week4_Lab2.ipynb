{
 "cells": [
  {
   "cell_type": "code",
   "execution_count": 4,
   "id": "d091d078-5178-4227-a28c-a5760b12cdb2",
   "metadata": {},
   "outputs": [],
   "source": [
    "registration_counter = 50000\n",
    "\n",
    "def student_registration():\n",
    "    global registration_counter\n",
    "    # set id to current value of counter\n",
    "    registration_id = registration_counter\n",
    "    registration_counter += 1\n",
    "    \n",
    "    date = input('Enter the registration date (dd/mm/yyyy): ')\n",
    "    student_id = input('Enter the student ID: ')\n",
    "    student_name = input('Enter the student name: ')\n",
    "    course_name = input('Enter the course name: ')\n",
    "    \n",
    "    print('\\nPrinting student registration information:')    \n",
    "    print(f'Date: {date}')\n",
    "    print(f'student ID: {student_id}')\n",
    "    print(f'student name: {student_name}')\n",
    "    print(f'course name: {course_name}')\n",
    "    print(f'Registration ID: {registration_id}')"
   ]
  },
  {
   "cell_type": "code",
   "execution_count": 5,
   "id": "5f67c7d0-70ae-497c-aacb-bd0358195923",
   "metadata": {},
   "outputs": [
    {
     "name": "stdin",
     "output_type": "stream",
     "text": [
      "Enter the registration date (dd/mm/yyyy):  13/01/2025\n",
      "Enter the student ID:  20241275\n",
      "Enter the student name:  James Gallon\n",
      "Enter the course name:  IT5016\n"
     ]
    },
    {
     "name": "stdout",
     "output_type": "stream",
     "text": [
      "\n",
      "Printing student registration information:\n",
      "Date: 13/01/2025\n",
      "student ID: 20241275\n",
      "student name: James Gallon\n",
      "course name: IT5016\n",
      "Registration ID: 50000\n"
     ]
    }
   ],
   "source": [
    "student_registration()"
   ]
  },
  {
   "cell_type": "code",
   "execution_count": 7,
   "id": "37f60288-208d-41c9-9641-4247df80ef82",
   "metadata": {},
   "outputs": [
    {
     "name": "stdin",
     "output_type": "stream",
     "text": [
      "Enter the registration date (dd/mm/yyyy):  13/01/2025\n",
      "Enter the student ID:  20241275\n",
      "Enter the student name:  James Gallon\n",
      "Enter the course name:  IT5016\n"
     ]
    },
    {
     "name": "stdout",
     "output_type": "stream",
     "text": [
      "\n",
      "Printing student registration information:\n",
      "Date: 13/01/2025\n",
      "student ID: 20241275\n",
      "student name: James Gallon\n",
      "course name: IT5016\n",
      "Registration ID: 50000\n"
     ]
    }
   ],
   "source": [
    "registration_counter = 50000\n",
    "\n",
    "def student_registration():\n",
    "    global registration_counter\n",
    "    # set id to current value of counter\n",
    "    registration_id = registration_counter\n",
    "    registration_counter += 1\n",
    "    \n",
    "    date = input('Enter the registration date (dd/mm/yyyy): ')\n",
    "    student_id = input('Enter the student ID: ')\n",
    "    student_name = input('Enter the student name: ')\n",
    "    course_name = input('Enter the course name: ')\n",
    "\n",
    "    return date, student_id, student_name, course_name, registration_id\n",
    "\n",
    "date, student_id, student_name, course_name, registration_id = student_registration()\n",
    "print('\\nPrinting student registration information:')    \n",
    "print(f'Date: {date}')\n",
    "print(f'student ID: {student_id}')\n",
    "print(f'student name: {student_name}')\n",
    "print(f'course name: {course_name}')\n",
    "print(f'Registration ID: {registration_id}')"
   ]
  }
 ],
 "metadata": {
  "kernelspec": {
   "display_name": "Python 3 (ipykernel)",
   "language": "python",
   "name": "python3"
  },
  "language_info": {
   "codemirror_mode": {
    "name": "ipython",
    "version": 3
   },
   "file_extension": ".py",
   "mimetype": "text/x-python",
   "name": "python",
   "nbconvert_exporter": "python",
   "pygments_lexer": "ipython3",
   "version": "3.12.9"
  }
 },
 "nbformat": 4,
 "nbformat_minor": 5
}
